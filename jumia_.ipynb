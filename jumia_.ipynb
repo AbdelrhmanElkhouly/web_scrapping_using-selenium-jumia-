{
 "cells": [
  {
   "cell_type": "code",
   "execution_count": 1,
   "metadata": {},
   "outputs": [],
   "source": [
    "from config import *"
   ]
  },
  {
   "cell_type": "code",
   "execution_count": 2,
   "metadata": {},
   "outputs": [],
   "source": [
    "from selenium import webdriver\n",
    "from selenium.webdriver.common.keys import Keys\n",
    "from selenium.webdriver.chrome.options import Options as ChromeOptions\n",
    "from selenium.webdriver.chrome.service import Service\n",
    "from webdriver_manager.chrome import ChromeDriverManager\n",
    "from time import sleep"
   ]
  },
  {
   "cell_type": "code",
   "execution_count": 3,
   "metadata": {},
   "outputs": [],
   "source": [
    "# from selenium import webdriver\n",
    "# from webdriver_manager.chrome import ChromeDriverManager\n",
    "# from selenium.webdriver.common.by import By\n",
    "# from selenium.webdriver.support.ui import WebDriverWait\n",
    "# from selenium.webdriver.support import expected_conditions as EC\n",
    "# import requests\n",
    "# from bs4 import BeautifulSoup\n",
    "# import csv\n",
    "# from itertools import zip_longest\n",
    "# import time "
   ]
  },
  {
   "cell_type": "code",
   "execution_count": 4,
   "metadata": {},
   "outputs": [],
   "source": [
    "def init_diver(is_headless = False):\n",
    "    \n",
    "    \n",
    "    # Add additional Options to the webdriver\n",
    "    chrome_options = ChromeOptions()\n",
    "    \n",
    "    # add the argument and make the browser Headless.this is which make chrom page not to open \n",
    "    #chrome_options.add_argument(\"--headless\")\n",
    "    \n",
    "    #to disable flash player and avoid its problems\n",
    "    chrome_options.add_argument(\"--disable-plugins\")\n",
    "    #to mute sound to avoid problems \n",
    "    chrome_options.add_argument(\"--mute-audio\")\n",
    "    #to close notifications in crawling\n",
    "    prefs = {\"profile.default_content_setting_values.notifications\" : 2}\n",
    "    chrome_options.add_experimental_option(\"prefs\",prefs)\n",
    "    #to avoid loadind images\n",
    "    prefs = {\"profile.managed_default_content_settings.images\": 2}\n",
    "    chrome_options.add_experimental_option(\"prefs\", prefs)\n",
    "    \n",
    "    chrome_options.add_argument(f'user-agent=“Mozilla/5.0 (Macintosh; Intel Mac OS X 10_12_6) AppleWebKit/537.36 (KHTML, like Gecko) Chrome/76.0.3809.132 Safari/537.36”')\n",
    "\n",
    "    chrome_options.add_argument('--window-size=1920,1080')\n",
    "                \n",
    "    driver = webdriver.Chrome(executable_path=\"./chromedriver.exe\", options = chrome_options)\n",
    "    \n",
    "    chrome_options.headless = is_headless\n",
    "    \n",
    "    \n",
    "    \n",
    "    return driver"
   ]
  },
  {
   "cell_type": "code",
   "execution_count": 6,
   "metadata": {},
   "outputs": [],
   "source": [
    "#if in every time there is a popup and i want to close it in every page\\\n",
    "def get_url(page_url , driver):\n",
    "    driver.get(page_url)\n",
    "    sleep(10)\n",
    "    \n",
    "    close_pop_up = driver.find_elements_by_css_selector('#pop > div > section > button > svg')\n",
    "    if len(close_pop_up)>0:\n",
    "        close_pop_up[0].click()\n",
    "    \n",
    "    return True\n",
    "\n"
   ]
  },
  {
   "cell_type": "code",
   "execution_count": 7,
   "metadata": {},
   "outputs": [],
   "source": [
    "driver = init_diver()"
   ]
  },
  {
   "cell_type": "code",
   "execution_count": 8,
   "metadata": {},
   "outputs": [],
   "source": [
    "jumia_base_url = 'https://www.jumia.com.eg/ar'"
   ]
  },
  {
   "cell_type": "code",
   "execution_count": 9,
   "metadata": {},
   "outputs": [],
   "source": [
    "categories = ['phones-tablets' , 'electronics']"
   ]
  },
  {
   "cell_type": "code",
   "execution_count": 11,
   "metadata": {},
   "outputs": [],
   "source": [
    "\n",
    "for category in categories:\n",
    "    category_url = f\"{jumia_base_url}/{category}\"\n",
    "    #driver.get(category_url)\n",
    "    for page in range(1,6):#to get 1----->5\n",
    "        page_url = f\"{category_url}?page={str(page)}#catalog-listing\"\n",
    "#         driver.get(page_url)\n",
    "        _ = get_url(page_url , driver)\n",
    "        \n",
    "        \n",
    "        \n",
    "    break"
   ]
  },
  {
   "cell_type": "code",
   "execution_count": 12,
   "metadata": {},
   "outputs": [],
   "source": [
    "_ = get_url(\"https://www.jumia.com.eg/ar/phones-tablets/?page=5#catalog-listing\" , driver)"
   ]
  },
  {
   "cell_type": "code",
   "execution_count": 17,
   "metadata": {},
   "outputs": [],
   "source": [
    "products = driver.find_elements_by_css_selector(\"div.-paxs .prd\")"
   ]
  },
  {
   "cell_type": "code",
   "execution_count": 18,
   "metadata": {},
   "outputs": [
    {
     "name": "stdout",
     "output_type": "stream",
     "text": [
      "48\n"
     ]
    }
   ],
   "source": [
    "print(len(products))"
   ]
  },
  {
   "cell_type": "code",
   "execution_count": 19,
   "metadata": {},
   "outputs": [
    {
     "name": "stdout",
     "output_type": "stream",
     "text": [
      "Apple محول طاقة 20 وات يو اس بي سي لاجهزة ايفون 12 12 برو ماكس - ابيض\n",
      "\n",
      "Desktop Tablet Phone Holder Foldable Extend Phone Stand\n",
      "Earphones With Lightning Connector For iphone - White\n",
      "\n",
      "استيك ساعة هواوى باند 6 لون ابيض\n",
      "\n",
      "حامل موبايل للمكتب ذو قاعده دائريه\n",
      "رينج لايت 26 سم للتصوير ,والماكياج 3 أوضاع للضوء\n",
      "Darago F18 - 2.8-inch Dual SIM Mobile Phone - Silver\n",
      "رينج لايت 16 سم + استاند معدن يمكنك تركيب حتي 2 هواتف وحامل ميكروفون Y216\n",
      "\n",
      "Replacement Stainless Steel Strap 22mm For Huawei Watch GT2 46Mmm Smart Watch - black\n",
      "\n",
      "Proda PD-BT500 Wireless Bluetooth Earphone - Black\n",
      "جراب حماية مدمج باسكرين لحماية شاشة ساعة ذكية هواوي فيت HUAWEI FIT\n",
      "\n",
      "JOYROOM JR-TL7 سماعتين بلوتوث بصوت قوى محيطى - HD Sound Strong Bass - اسود\n",
      "\n",
      "SODO SD-1002 سماعة رأس بلوتوث سودو صوت مجسم وقوي -فضى/ رمادى\n",
      "اسكرين حماية عالية الجودة لشاشة ساعة شاومي مي باند 6 Xiaomi Mi Band 6\n",
      "Samsung Galaxy A12 - 6.5-inch 64GB/4GB Dual SIM Mobile Phone - Blue\n",
      "استيك ساعة هواوى باند 6 لون اسود\n",
      "\n",
      "3 في 1 USB إلى 8 Pin + Micro USB + Type-C شحن مغناطيسي وكابل بيانات مع سلسلة مفاتيح (أسود)\n",
      "\n",
      "جراب حماية قصوى 360° 3 في 1 بحماية للكاميرا لهاتف شاومي ريدمي نوت 10 برو (Redmi Note 10 Pro Cover) - أزرق و أسود\n",
      "XIAOMI XIAOMI Redmi 10 - 6.5-inch 128GB/6GB Dual SIM Mobile Phone - Carbon Gray\n",
      "\n",
      "جراب حماية قصوى 360° ضد الصدمات 3 في1 بحماية للكاميرا لهاتف شاومي مي 10 تي و مي 10 تي برو (MI 10T / MI 10T Pro Cover) - فضي\n",
      "\n",
      "X10 ساعة ذكية 1.3 بوصة للرجال IP67 مقاومة للماء - أسود\n",
      "Celebrat A20 Wireless Sport Magnetic Suction Earphones - Black\n",
      "\n",
      "Remax Usb 3.0 To Type-C OTG Adapter -\n",
      "Selfie Ring Light Rechargeable Flash With Led Light - Black\n",
      "\n",
      "تريجر ببجي شارك ايم+شوتر ازرق\n",
      "Nabi Z7 Smart Watch GPS Tracker - For Kids - Red / Blue\n",
      "\n",
      "Celebrat A19 Bluetooth Wireless Neckband Sport Earphones - Red/Black\n",
      "جراب حماية قصوى 360° 3 في 1 بحماية للكاميرا لهاتف شاومي ريدمي نوت 10 برو (Redmi Note 10 Pro Cover) - أحمر و أسود\n",
      "\n",
      "Mi Piston In-Ear Earphones With Mic - Matte Silver\n",
      "Full Cover Case Protection 360 Degree For Honor Magic 2 Watch - 46mm - Transparent\n",
      "\n",
      "W10 Pubg MobileGamepad Controller\n",
      "JOYROOM JR-ZS248 شاحن سيارة لاسلكي فائق السرعة15 وات متكامل مع هولدر أوتوماتيكي للموبايل مزود بحساس للأشعة تحت الحمراء\n"
     ]
    }
   ],
   "source": [
    "for product in products:\n",
    "    prod_title = ''\n",
    "    if len(product.find_elements_by_css_selector('div.info h3.name'))>0:\n",
    "        prod_title = product.find_elements_by_css_selector('div.info h3.name')[0].text\n",
    "        print(prod_title)"
   ]
  },
  {
   "cell_type": "code",
   "execution_count": 61,
   "metadata": {},
   "outputs": [],
   "source": [
    "# #find elements because if it not found\n",
    "# close_pop_up = driver.find_elements_by_css_selector('#pop > div > section > button > svg')\n",
    "# if len(close_pop_up)>0:\n",
    "#     close_pop_up[0].click()"
   ]
  },
  {
   "cell_type": "code",
   "execution_count": 62,
   "metadata": {},
   "outputs": [],
   "source": [
    "#we can instead put paths\n",
    "categories = ['phones-tablets' , 'electronics']"
   ]
  },
  {
   "cell_type": "code",
   "execution_count": 63,
   "metadata": {},
   "outputs": [
    {
     "name": "stdout",
     "output_type": "stream",
     "text": [
      "https://www.jumia.com.eg/ar/phones-tablets\n",
      "https://www.jumia.com.eg/ar/electronics\n"
     ]
    }
   ],
   "source": [
    "for category in categories:\n",
    "    \n",
    "    print(f\"{jumia_base_url}/{category}\")"
   ]
  },
  {
   "cell_type": "code",
   "execution_count": 64,
   "metadata": {},
   "outputs": [],
   "source": [
    "\n",
    "for category in categories:\n",
    "    category_url = f\"{jumia_base_url}/{category}\"\n",
    "    #driver.get(category_url)\n",
    "    for page in range(1,6):#to get 1----->5\n",
    "        page_url = f\"{category_url}?page={str(page)}#catalog-listing\"\n",
    "        driver.get(page_url)\n",
    "        \n",
    "        sleep(20)\n",
    "        \n",
    "        break\n",
    "    "
   ]
  },
  {
   "cell_type": "code",
   "execution_count": null,
   "metadata": {},
   "outputs": [],
   "source": []
  },
  {
   "cell_type": "code",
   "execution_count": 65,
   "metadata": {},
   "outputs": [],
   "source": [
    "driver.quit()"
   ]
  },
  {
   "cell_type": "code",
   "execution_count": 6,
   "metadata": {},
   "outputs": [],
   "source": []
  },
  {
   "cell_type": "code",
   "execution_count": null,
   "metadata": {},
   "outputs": [],
   "source": []
  },
  {
   "cell_type": "code",
   "execution_count": null,
   "metadata": {},
   "outputs": [],
   "source": []
  },
  {
   "cell_type": "code",
   "execution_count": null,
   "metadata": {},
   "outputs": [],
   "source": []
  },
  {
   "cell_type": "code",
   "execution_count": null,
   "metadata": {},
   "outputs": [],
   "source": []
  },
  {
   "cell_type": "code",
   "execution_count": null,
   "metadata": {},
   "outputs": [],
   "source": []
  },
  {
   "cell_type": "code",
   "execution_count": null,
   "metadata": {},
   "outputs": [],
   "source": []
  },
  {
   "cell_type": "code",
   "execution_count": null,
   "metadata": {},
   "outputs": [],
   "source": []
  },
  {
   "cell_type": "code",
   "execution_count": null,
   "metadata": {},
   "outputs": [],
   "source": []
  },
  {
   "cell_type": "code",
   "execution_count": null,
   "metadata": {},
   "outputs": [],
   "source": []
  },
  {
   "cell_type": "code",
   "execution_count": null,
   "metadata": {},
   "outputs": [],
   "source": []
  },
  {
   "cell_type": "code",
   "execution_count": null,
   "metadata": {},
   "outputs": [],
   "source": []
  },
  {
   "cell_type": "code",
   "execution_count": null,
   "metadata": {},
   "outputs": [],
   "source": []
  },
  {
   "cell_type": "code",
   "execution_count": null,
   "metadata": {},
   "outputs": [],
   "source": []
  },
  {
   "cell_type": "code",
   "execution_count": null,
   "metadata": {},
   "outputs": [],
   "source": []
  },
  {
   "cell_type": "code",
   "execution_count": null,
   "metadata": {},
   "outputs": [],
   "source": []
  },
  {
   "cell_type": "code",
   "execution_count": null,
   "metadata": {},
   "outputs": [],
   "source": []
  },
  {
   "cell_type": "code",
   "execution_count": 19,
   "metadata": {},
   "outputs": [],
   "source": []
  },
  {
   "cell_type": "code",
   "execution_count": 20,
   "metadata": {},
   "outputs": [],
   "source": [
    "# # better than course \n",
    "# def configure_chrome_driver():\n",
    "#     # Add additional Options to the webdriver\n",
    "#     chrome_options = ChromeOptions()\n",
    "#     # add the argument and make the browser Headless.\n",
    "#     #chrome_options.add_argument(\"--headless\")\n",
    "#     chrome_options.add_argument('--window-size=1920,1080')\n",
    "#     # Instantiate the Webdriver: Mention the executable path of the webdriver you have downloaded\n",
    "#     # if driver is in PATH, no need to provide executable_path\n",
    "# #     driver = webdriver.Chrome(executable_path=\"./chromedriver.exe\", options = chrome_options)\n",
    "#     driver=webdriver.Chrome(executable_path=\"./chromedriver.exe\" , options=chrome_options)\n",
    "#     return driver"
   ]
  },
  {
   "cell_type": "code",
   "execution_count": 21,
   "metadata": {},
   "outputs": [],
   "source": [
    "# driver = configure_chrome_driver()"
   ]
  },
  {
   "cell_type": "code",
   "execution_count": 19,
   "metadata": {},
   "outputs": [],
   "source": [
    "# driver.get(\"https://www.google.com/\")"
   ]
  },
  {
   "cell_type": "code",
   "execution_count": 34,
   "metadata": {},
   "outputs": [],
   "source": [
    "# driver.quit()"
   ]
  },
  {
   "cell_type": "code",
   "execution_count": null,
   "metadata": {},
   "outputs": [],
   "source": [
    "\n"
   ]
  },
  {
   "cell_type": "code",
   "execution_count": null,
   "metadata": {},
   "outputs": [],
   "source": []
  }
 ],
 "metadata": {
  "kernelspec": {
   "display_name": "Python 3",
   "language": "python",
   "name": "python3"
  },
  "language_info": {
   "codemirror_mode": {
    "name": "ipython",
    "version": 3
   },
   "file_extension": ".py",
   "mimetype": "text/x-python",
   "name": "python",
   "nbconvert_exporter": "python",
   "pygments_lexer": "ipython3",
   "version": "3.8.5"
  }
 },
 "nbformat": 4,
 "nbformat_minor": 4
}
